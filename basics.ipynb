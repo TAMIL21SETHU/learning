{
 "cells": [
  {
   "cell_type": "code",
   "execution_count": null,
   "id": "38edb5ff",
   "metadata": {},
   "outputs": [],
   "source": [
    "a"
   ]
  },
  {
   "cell_type": "markdown",
   "id": "d47b60e9",
   "metadata": {},
   "source": [
    "RANGE"
   ]
  },
  {
   "cell_type": "code",
   "execution_count": null,
   "id": "9d5ab57d",
   "metadata": {},
   "outputs": [],
   "source": [
    "var1=range(1,11,3)"
   ]
  },
  {
   "cell_type": "code",
   "execution_count": null,
   "id": "ee638060",
   "metadata": {},
   "outputs": [],
   "source": [
    "print(var1)"
   ]
  },
  {
   "cell_type": "code",
   "execution_count": null,
   "id": "e5bd9109",
   "metadata": {},
   "outputs": [],
   "source": [
    "print(list(var1))"
   ]
  },
  {
   "cell_type": "code",
   "execution_count": null,
   "id": "1a4f24dc",
   "metadata": {},
   "outputs": [],
   "source": [
    "type(a1)"
   ]
  },
  {
   "cell_type": "code",
   "execution_count": null,
   "id": "980535d7",
   "metadata": {},
   "outputs": [],
   "source": [
    "type(var1)"
   ]
  },
  {
   "cell_type": "code",
   "execution_count": null,
   "id": "a360f786",
   "metadata": {},
   "outputs": [],
   "source": [
    "type(a)"
   ]
  },
  {
   "cell_type": "code",
   "execution_count": null,
   "id": "50a9aa4c",
   "metadata": {},
   "outputs": [],
   "source": [
    "type(var3)"
   ]
  },
  {
   "cell_type": "code",
   "execution_count": null,
   "id": "353e520e",
   "metadata": {},
   "outputs": [],
   "source": [
    "var3"
   ]
  },
  {
   "cell_type": "code",
   "execution_count": null,
   "id": "db7880c4",
   "metadata": {},
   "outputs": [],
   "source": [
    "var3[\"name\"]"
   ]
  },
  {
   "cell_type": "code",
   "execution_count": null,
   "id": "9eb7d251",
   "metadata": {},
   "outputs": [],
   "source": [
    "var3[\"studentcount\"]"
   ]
  },
  {
   "cell_type": "code",
   "execution_count": null,
   "id": "90fe750a",
   "metadata": {},
   "outputs": [],
   "source": [
    "var3[10]"
   ]
  },
  {
   "cell_type": "code",
   "execution_count": null,
   "id": "cdeafb3b",
   "metadata": {},
   "outputs": [],
   "source": [
    "print(f\"i am {\"name\"})"
   ]
  },
  {
   "cell_type": "code",
   "execution_count": null,
   "id": "403274b4",
   "metadata": {},
   "outputs": [],
   "source": [
    "a=\"tamil\""
   ]
  },
  {
   "cell_type": "code",
   "execution_count": null,
   "id": "4b1521bd",
   "metadata": {},
   "outputs": [],
   "source": [
    "print(f\" iam {a}\")"
   ]
  },
  {
   "cell_type": "code",
   "execution_count": null,
   "id": "e8fb8d35",
   "metadata": {},
   "outputs": [],
   "source": [
    "a=[1,2,3,4]\n"
   ]
  },
  {
   "cell_type": "code",
   "execution_count": null,
   "id": "8d29e925",
   "metadata": {},
   "outputs": [],
   "source": [
    "print(f\" number {a}\")"
   ]
  },
  {
   "cell_type": "code",
   "execution_count": null,
   "id": "9cc744b7",
   "metadata": {},
   "outputs": [],
   "source": [
    "var3={5:\"data analysis\",10:\"mca\",20:12}"
   ]
  },
  {
   "cell_type": "raw",
   "id": "e5ace270",
   "metadata": {},
   "source": []
  },
  {
   "cell_type": "code",
   "execution_count": null,
   "id": "a8c055e5",
   "metadata": {},
   "outputs": [],
   "source": [
    "var3[20]=\"pmist\""
   ]
  },
  {
   "cell_type": "code",
   "execution_count": null,
   "id": "a8fe6227",
   "metadata": {},
   "outputs": [],
   "source": [
    "var3"
   ]
  },
  {
   "cell_type": "code",
   "execution_count": null,
   "id": "9fdfed19",
   "metadata": {},
   "outputs": [],
   "source": [
    "var3={\"tamil\",10,1+3j,0.003,10}"
   ]
  },
  {
   "cell_type": "code",
   "execution_count": null,
   "id": "da4d713e",
   "metadata": {},
   "outputs": [],
   "source": [
    "var3"
   ]
  },
  {
   "cell_type": "raw",
   "id": "8b450e94",
   "metadata": {},
   "source": []
  },
  {
   "cell_type": "code",
   "execution_count": null,
   "id": "d837c5df",
   "metadata": {},
   "outputs": [],
   "source": [
    "var4=frozenset({1,4,5,9,5,2,3})"
   ]
  },
  {
   "cell_type": "code",
   "execution_count": null,
   "id": "bf937e80",
   "metadata": {},
   "outputs": [],
   "source": [
    "var4"
   ]
  },
  {
   "cell_type": "markdown",
   "id": "9765cc93",
   "metadata": {},
   "source": [
    "ALARM CLOCK"
   ]
  },
  {
   "cell_type": "code",
   "execution_count": null,
   "id": "3da76813",
   "metadata": {},
   "outputs": [],
   "source": [
    "timenow=int (input(\"enter time\"))\n",
    "noti={1:\"good morning\",2:\"good afternoon\",3:\"good evening\"}\n",
    "if ((timenow)<12) & ((timenow)>=24):\n",
    "    print(noti[1])\n",
    "elif (timenow)==12:\n",
    "    print(noti[2])\n",
    "elif (timenow)>12:\n",
    "    print(noti[3])\n",
    "\n"
   ]
  },
  {
   "cell_type": "code",
   "execution_count": null,
   "id": "080cbb5c",
   "metadata": {},
   "outputs": [],
   "source": [
    "tcs=int(input(\"enter total seat capacity:\"))\n",
    "counter=1\n",
    "while counter<=tcs/2:\n",
    "    print(f\"your journey is not confirmed\")\n",
    "    print(f\"only {counter} tickets booked\")\n",
    "    counter+=1\n",
    "print(\"The journey confirmed.because of 50% of tickets booked\")"
   ]
  },
  {
   "cell_type": "code",
   "execution_count": null,
   "id": "92218ee6",
   "metadata": {},
   "outputs": [],
   "source": [
    "inp=int(input(\"Enter input:\"))\n",
    "count=1\n",
    "x=1\n",
    "y=1\n",
    "while count<=inp:\n",
    "    c=x+y\n",
    "    x=y\n",
    "    y=c\n",
    "    print(c)\n",
    "    count+=1"
   ]
  },
  {
   "cell_type": "code",
   "execution_count": null,
   "id": "3caa063f",
   "metadata": {},
   "outputs": [],
   "source": [
    "def fibo(inp):\n",
    "    inp=int(input(\"Enter input:\"))\n",
    "    count=1\n",
    "    x=1\n",
    "    y=1\n",
    "    while count<=inp:\n",
    "        c=x+y\n",
    "        x=y\n",
    "        y=c\n",
    "        print(c)\n",
    "        count+=1\n",
    "    \n",
    "    \n"
   ]
  },
  {
   "cell_type": "code",
   "execution_count": null,
   "id": "6cba4ac9",
   "metadata": {},
   "outputs": [],
   "source": [
    "fibo(10)"
   ]
  },
  {
   "cell_type": "code",
   "execution_count": null,
   "id": "1b86b369",
   "metadata": {},
   "outputs": [],
   "source": []
  }
 ],
 "metadata": {
  "kernelspec": {
   "display_name": "Python 3 (ipykernel)",
   "language": "python",
   "name": "python3"
  },
  "language_info": {
   "codemirror_mode": {
    "name": "ipython",
    "version": 3
   },
   "file_extension": ".py",
   "mimetype": "text/x-python",
   "name": "python",
   "nbconvert_exporter": "python",
   "pygments_lexer": "ipython3",
   "version": "3.10.8"
  }
 },
 "nbformat": 4,
 "nbformat_minor": 5
}
