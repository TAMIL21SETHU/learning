{
 "cells": [
  {
   "cell_type": "markdown",
   "id": "6789aedf",
   "metadata": {},
   "source": [
    "libary"
   ]
  },
  {
   "cell_type": "code",
   "execution_count": 2,
   "id": "df6ad891",
   "metadata": {},
   "outputs": [],
   "source": [
    "import numpy as ny"
   ]
  },
  {
   "cell_type": "code",
   "execution_count": 14,
   "id": "159fcb0c",
   "metadata": {},
   "outputs": [],
   "source": [
    "b =ny.array([(1,2,3),(4,5,0)])"
   ]
  },
  {
   "cell_type": "code",
   "execution_count": null,
   "id": "bfb3a80c",
   "metadata": {},
   "outputs": [],
   "source": [
    "print(b)"
   ]
  },
  {
   "cell_type": "code",
   "execution_count": null,
   "id": "f59b97d4",
   "metadata": {},
   "outputs": [],
   "source": [
    "trans=ny.transpose(b)"
   ]
  },
  {
   "cell_type": "code",
   "execution_count": null,
   "id": "ae63fb71",
   "metadata": {},
   "outputs": [],
   "source": [
    "print(trans)"
   ]
  },
  {
   "cell_type": "code",
   "execution_count": null,
   "id": "168c1c2b",
   "metadata": {},
   "outputs": [],
   "source": [
    "trans.ravel()"
   ]
  },
  {
   "cell_type": "code",
   "execution_count": null,
   "id": "50c39dfd",
   "metadata": {},
   "outputs": [],
   "source": [
    "b.reshape(3,2)"
   ]
  },
  {
   "cell_type": "code",
   "execution_count": 11,
   "id": "37e86eec",
   "metadata": {},
   "outputs": [],
   "source": [
    "zero=ny.ones((5,5))"
   ]
  },
  {
   "cell_type": "code",
   "execution_count": 9,
   "id": "0bcecfd0",
   "metadata": {},
   "outputs": [
    {
     "name": "stdout",
     "output_type": "stream",
     "text": [
      "[[1. 1. 1. 1. 1.]\n",
      " [1. 1. 1. 1. 1.]\n",
      " [1. 1. 1. 1. 1.]\n",
      " [1. 1. 1. 1. 1.]\n",
      " [1. 1. 1. 1. 1.]]\n"
     ]
    }
   ],
   "source": [
    "print(zero)"
   ]
  },
  {
   "cell_type": "code",
   "execution_count": 12,
   "id": "fb0b7015",
   "metadata": {},
   "outputs": [
    {
     "data": {
      "text/plain": [
       "array([[0.32086053, 0.47970553],\n",
       "       [0.0285099 , 0.57239349]])"
      ]
     },
     "execution_count": 12,
     "metadata": {},
     "output_type": "execute_result"
    }
   ],
   "source": [
    "ny.random.random((2,2))"
   ]
  },
  {
   "cell_type": "code",
   "execution_count": 15,
   "id": "c6dd5ef6",
   "metadata": {},
   "outputs": [],
   "source": [
    "zero=ny.delete(b,3)"
   ]
  },
  {
   "cell_type": "code",
   "execution_count": 16,
   "id": "9b1416ab",
   "metadata": {},
   "outputs": [
    {
     "name": "stdout",
     "output_type": "stream",
     "text": [
      "[1 2 3 5 0]\n"
     ]
    }
   ],
   "source": [
    "print(zero)"
   ]
  },
  {
   "cell_type": "code",
   "execution_count": 18,
   "id": "f9a4607a",
   "metadata": {},
   "outputs": [],
   "source": [
    "zero=ny.insert(b,2,4)"
   ]
  },
  {
   "cell_type": "code",
   "execution_count": 19,
   "id": "7a60480c",
   "metadata": {},
   "outputs": [
    {
     "name": "stdout",
     "output_type": "stream",
     "text": [
      "[1 2 4 3 4 5 0]\n"
     ]
    }
   ],
   "source": [
    "print(zero)"
   ]
  },
  {
   "cell_type": "code",
   "execution_count": null,
   "id": "50176dd2",
   "metadata": {},
   "outputs": [],
   "source": []
  }
 ],
 "metadata": {
  "kernelspec": {
   "display_name": "Python 3 (ipykernel)",
   "language": "python",
   "name": "python3"
  },
  "language_info": {
   "codemirror_mode": {
    "name": "ipython",
    "version": 3
   },
   "file_extension": ".py",
   "mimetype": "text/x-python",
   "name": "python",
   "nbconvert_exporter": "python",
   "pygments_lexer": "ipython3",
   "version": "3.10.8"
  }
 },
 "nbformat": 4,
 "nbformat_minor": 5
}
