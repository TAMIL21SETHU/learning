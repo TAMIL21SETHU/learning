{
 "cells": [
  {
   "cell_type": "markdown",
   "id": "0c59f3c5",
   "metadata": {},
   "source": [
    "libary"
   ]
  },
  {
   "cell_type": "code",
   "execution_count": 2,
   "id": "1b67106d",
   "metadata": {},
   "outputs": [],
   "source": [
    "import numpy as ny"
   ]
  },
  {
   "cell_type": "code",
   "execution_count": 14,
   "id": "ed9c0343",
   "metadata": {},
   "outputs": [],
   "source": [
    "b =ny.array([(1,2,3),(4,5,0)])"
   ]
  },
  {
   "cell_type": "code",
   "execution_count": null,
   "id": "8c52b5f7",
   "metadata": {},
   "outputs": [],
   "source": [
    "print(b)"
   ]
  },
  {
   "cell_type": "code",
   "execution_count": null,
   "id": "c530bd90",
   "metadata": {},
   "outputs": [],
   "source": [
    "trans=ny.transpose(b)"
   ]
  },
  {
   "cell_type": "code",
   "execution_count": null,
   "id": "384aec3d",
   "metadata": {},
   "outputs": [],
   "source": [
    "print(trans)"
   ]
  },
  {
   "cell_type": "code",
   "execution_count": null,
   "id": "17d403b8",
   "metadata": {},
   "outputs": [],
   "source": [
    "trans.ravel()"
   ]
  },
  {
   "cell_type": "code",
   "execution_count": null,
   "id": "89bc29bc",
   "metadata": {},
   "outputs": [],
   "source": [
    "b.reshape(3,2)"
   ]
  },
  {
   "cell_type": "code",
   "execution_count": 11,
   "id": "b9f641b2",
   "metadata": {},
   "outputs": [],
   "source": [
    "zero=ny.ones((5,5))"
   ]
  },
  {
   "cell_type": "code",
   "execution_count": 9,
   "id": "a3d0d230",
   "metadata": {},
   "outputs": [
    {
     "name": "stdout",
     "output_type": "stream",
     "text": [
      "[[1. 1. 1. 1. 1.]\n",
      " [1. 1. 1. 1. 1.]\n",
      " [1. 1. 1. 1. 1.]\n",
      " [1. 1. 1. 1. 1.]\n",
      " [1. 1. 1. 1. 1.]]\n"
     ]
    }
   ],
   "source": [
    "print(zero)"
   ]
  },
  {
   "cell_type": "code",
   "execution_count": 12,
   "id": "a8d3c52c",
   "metadata": {},
   "outputs": [
    {
     "data": {
      "text/plain": [
       "array([[0.32086053, 0.47970553],\n",
       "       [0.0285099 , 0.57239349]])"
      ]
     },
     "execution_count": 12,
     "metadata": {},
     "output_type": "execute_result"
    }
   ],
   "source": [
    "ny.random.random((2,2))"
   ]
  },
  {
   "cell_type": "code",
   "execution_count": 15,
   "id": "afbe84d9",
   "metadata": {},
   "outputs": [],
   "source": [
    "zero=ny.delete(b,3)"
   ]
  },
  {
   "cell_type": "code",
   "execution_count": 16,
   "id": "c24bfb39",
   "metadata": {},
   "outputs": [
    {
     "name": "stdout",
     "output_type": "stream",
     "text": [
      "[1 2 3 5 0]\n"
     ]
    }
   ],
   "source": [
    "print(zero)"
   ]
  },
  {
   "cell_type": "code",
   "execution_count": 18,
   "id": "e825d4d3",
   "metadata": {},
   "outputs": [],
   "source": [
    "zero=ny.insert(b,2,4)"
   ]
  },
  {
   "cell_type": "code",
   "execution_count": 19,
   "id": "b796a5e7",
   "metadata": {},
   "outputs": [
    {
     "name": "stdout",
     "output_type": "stream",
     "text": [
      "[1 2 4 3 4 5 0]\n"
     ]
    }
   ],
   "source": [
    "print(zero)"
   ]
  },
  {
   "cell_type": "code",
   "execution_count": 21,
   "id": "1a34976d",
   "metadata": {},
   "outputs": [
    {
     "data": {
      "text/plain": [
       "'1.23.5'"
      ]
     },
     "execution_count": 21,
     "metadata": {},
     "output_type": "execute_result"
    }
   ],
   "source": [
    "ny.__version__"
   ]
  },
  {
   "cell_type": "code",
   "execution_count": null,
   "id": "85c0cbb4",
   "metadata": {},
   "outputs": [],
   "source": []
  }
 ],
 "metadata": {
  "kernelspec": {
   "display_name": "Python 3 (ipykernel)",
   "language": "python",
   "name": "python3"
  },
  "language_info": {
   "codemirror_mode": {
    "name": "ipython",
    "version": 3
   },
   "file_extension": ".py",
   "mimetype": "text/x-python",
   "name": "python",
   "nbconvert_exporter": "python",
   "pygments_lexer": "ipython3",
   "version": "3.10.8"
  }
 },
 "nbformat": 4,
 "nbformat_minor": 5
}
